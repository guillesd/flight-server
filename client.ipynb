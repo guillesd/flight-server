{
 "cells": [
  {
   "cell_type": "code",
   "execution_count": null,
   "metadata": {},
   "outputs": [],
   "source": [
    "import pyarrow as pa\n",
    "import pyarrow.flight\n",
    "\n",
    "client = pa.flight.connect(\"grpc://0.0.0.0:8815\")\n"
   ]
  },
  {
   "cell_type": "code",
   "execution_count": null,
   "metadata": {},
   "outputs": [],
   "source": [
    "# Upload a new dataset\n",
    "data_table = pa.table(\n",
    "    [[\"Mario\", \"Luigi\", \"Peach\"]],\n",
    "    names=[\"Character\"]\n",
    ")\n",
    "upload_descriptor = pa.flight.FlightDescriptor.for_path(\"characters/\")\n",
    "writer, _ = client.do_put(upload_descriptor, data_table.schema)\n",
    "writer.write_table(data_table)\n",
    "writer.close()"
   ]
  },
  {
   "cell_type": "code",
   "execution_count": null,
   "metadata": {},
   "outputs": [],
   "source": [
    "upload_descriptor"
   ]
  },
  {
   "cell_type": "code",
   "execution_count": null,
   "metadata": {},
   "outputs": [],
   "source": [
    "info = client.get_flight_info(upload_descriptor)"
   ]
  },
  {
   "cell_type": "code",
   "execution_count": null,
   "metadata": {},
   "outputs": [],
   "source": [
    "info.endpoints[0].ticket"
   ]
  },
  {
   "cell_type": "code",
   "execution_count": null,
   "metadata": {},
   "outputs": [],
   "source": [
    "reader = client.do_get(info.endpoints[0].ticket)\n",
    "table = reader.read_all()\n",
    "table.to_pandas()"
   ]
  },
  {
   "cell_type": "markdown",
   "metadata": {},
   "source": [
    "## A more serious test with more data"
   ]
  },
  {
   "cell_type": "code",
   "execution_count": null,
   "metadata": {},
   "outputs": [],
   "source": [
    "import pyarrow.parquet as pq\n",
    "housing = pq.read_table(\"../housing_market/clean_export_pararius_24122021.parquet\")\n",
    "housing.to_pandas().head()"
   ]
  },
  {
   "cell_type": "code",
   "execution_count": null,
   "metadata": {},
   "outputs": [],
   "source": [
    "upload_descriptor = pa.flight.FlightDescriptor.for_path(\"housing\")\n",
    "writer, _ = client.do_put(upload_descriptor, housing.schema)\n",
    "writer.write_table(housing)\n",
    "writer.close()"
   ]
  },
  {
   "cell_type": "code",
   "execution_count": null,
   "metadata": {},
   "outputs": [],
   "source": [
    "endpoints = client.get_flight_info(upload_descriptor).endpoints\n",
    "reader = client.do_get(endpoints[0].ticket)\n",
    "table = reader.read_all()\n",
    "table.to_pandas().head()"
   ]
  },
  {
   "cell_type": "code",
   "execution_count": null,
   "metadata": {},
   "outputs": [],
   "source": [
    "endpoints[0].ticket"
   ]
  },
  {
   "cell_type": "code",
   "execution_count": null,
   "metadata": {},
   "outputs": [],
   "source": [
    "for flight in client.list_flights():\n",
    "    descriptor = flight.descriptor\n",
    "    print(\"Path:\", descriptor.path[0].decode('utf-8'), \"Rows:\", flight.total_records, \"Size:\", flight.total_bytes)\n",
    "    print(\"=== Schema ===\")\n",
    "    print(flight.schema)\n",
    "    print(\"==============\")\n",
    "    print(\"\")"
   ]
  },
  {
   "cell_type": "markdown",
   "metadata": {},
   "source": [
    "## DeltaServer test"
   ]
  },
  {
   "cell_type": "code",
   "execution_count": null,
   "metadata": {},
   "outputs": [],
   "source": [
    "client = pa.flight.connect(\"grpc://0.0.0.0:8815\")"
   ]
  },
  {
   "cell_type": "code",
   "execution_count": null,
   "metadata": {},
   "outputs": [],
   "source": [
    "# List all Delta Tables\n",
    "for flight in client.list_flights():\n",
    "    descriptor = flight.descriptor\n",
    "    print(\"Path:\", descriptor.path[0].decode('utf-8'), \"Rows:\", flight.total_records, \"Size:\", flight.total_bytes)\n",
    "    print(\"=== Schema ===\")\n",
    "    print(flight.schema)\n",
    "    print(\"==============\")\n",
    "    print(\"\")"
   ]
  },
  {
   "cell_type": "code",
   "execution_count": null,
   "metadata": {},
   "outputs": [],
   "source": [
    "flight_descriptor = pa.flight.FlightDescriptor.for_path(\"housing/\")\n",
    "endpoint = client.get_flight_info(flight_descriptor).endpoints[0]"
   ]
  },
  {
   "cell_type": "code",
   "execution_count": null,
   "metadata": {},
   "outputs": [],
   "source": [
    "table = client.do_get(endpoint.ticket).read_all()\n",
    "table.to_pandas()"
   ]
  }
 ],
 "metadata": {
  "kernelspec": {
   "display_name": "Python 3.9.15 ('arrow-service')",
   "language": "python",
   "name": "python3"
  },
  "language_info": {
   "codemirror_mode": {
    "name": "ipython",
    "version": 3
   },
   "file_extension": ".py",
   "mimetype": "text/x-python",
   "name": "python",
   "nbconvert_exporter": "python",
   "pygments_lexer": "ipython3",
   "version": "3.9.15"
  },
  "orig_nbformat": 4,
  "vscode": {
   "interpreter": {
    "hash": "05f373a73dcd08d7b7dbd4177477900571fbb31cafdcf91e9ce8f22a4ac8c017"
   }
  }
 },
 "nbformat": 4,
 "nbformat_minor": 2
}
