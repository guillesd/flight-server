{
 "cells": [
  {
   "cell_type": "code",
   "execution_count": 139,
   "metadata": {},
   "outputs": [],
   "source": [
    "import pyarrow as pa\n",
    "import pyarrow.flight\n",
    "\n",
    "client = pa.flight.connect(\"grpc://0.0.0.0:8815\")\n"
   ]
  },
  {
   "cell_type": "code",
   "execution_count": 140,
   "metadata": {},
   "outputs": [],
   "source": [
    "# Upload a new dataset\n",
    "data_table = pa.table(\n",
    "    [[\"Mario\", \"Luigi\", \"Peach\"]],\n",
    "    names=[\"Character\"]\n",
    ")\n",
    "upload_descriptor = pa.flight.FlightDescriptor.for_path(\"characters/\")\n",
    "writer, _ = client.do_put(upload_descriptor, data_table.schema)\n",
    "writer.write_table(data_table)\n",
    "writer.close()"
   ]
  },
  {
   "cell_type": "code",
   "execution_count": 141,
   "metadata": {},
   "outputs": [
    {
     "data": {
      "text/plain": [
       "<FlightDescriptor path: [b'characters/']>"
      ]
     },
     "execution_count": 141,
     "metadata": {},
     "output_type": "execute_result"
    }
   ],
   "source": [
    "upload_descriptor"
   ]
  },
  {
   "cell_type": "code",
   "execution_count": 142,
   "metadata": {},
   "outputs": [],
   "source": [
    "info = client.get_flight_info(upload_descriptor)"
   ]
  },
  {
   "cell_type": "code",
   "execution_count": 143,
   "metadata": {},
   "outputs": [
    {
     "data": {
      "text/plain": [
       "<Ticket b'./storage/characters/'>"
      ]
     },
     "execution_count": 143,
     "metadata": {},
     "output_type": "execute_result"
    }
   ],
   "source": [
    "info.endpoints[0].ticket"
   ]
  },
  {
   "cell_type": "code",
   "execution_count": 145,
   "metadata": {},
   "outputs": [
    {
     "data": {
      "text/html": [
       "<div>\n",
       "<style scoped>\n",
       "    .dataframe tbody tr th:only-of-type {\n",
       "        vertical-align: middle;\n",
       "    }\n",
       "\n",
       "    .dataframe tbody tr th {\n",
       "        vertical-align: top;\n",
       "    }\n",
       "\n",
       "    .dataframe thead th {\n",
       "        text-align: right;\n",
       "    }\n",
       "</style>\n",
       "<table border=\"1\" class=\"dataframe\">\n",
       "  <thead>\n",
       "    <tr style=\"text-align: right;\">\n",
       "      <th></th>\n",
       "      <th>Character</th>\n",
       "    </tr>\n",
       "  </thead>\n",
       "  <tbody>\n",
       "    <tr>\n",
       "      <th>0</th>\n",
       "      <td>Mario</td>\n",
       "    </tr>\n",
       "    <tr>\n",
       "      <th>1</th>\n",
       "      <td>Luigi</td>\n",
       "    </tr>\n",
       "    <tr>\n",
       "      <th>2</th>\n",
       "      <td>Peach</td>\n",
       "    </tr>\n",
       "    <tr>\n",
       "      <th>3</th>\n",
       "      <td>Mario</td>\n",
       "    </tr>\n",
       "    <tr>\n",
       "      <th>4</th>\n",
       "      <td>Luigi</td>\n",
       "    </tr>\n",
       "    <tr>\n",
       "      <th>5</th>\n",
       "      <td>Peach</td>\n",
       "    </tr>\n",
       "    <tr>\n",
       "      <th>6</th>\n",
       "      <td>Mario</td>\n",
       "    </tr>\n",
       "    <tr>\n",
       "      <th>7</th>\n",
       "      <td>Luigi</td>\n",
       "    </tr>\n",
       "    <tr>\n",
       "      <th>8</th>\n",
       "      <td>Peach</td>\n",
       "    </tr>\n",
       "    <tr>\n",
       "      <th>9</th>\n",
       "      <td>Mario</td>\n",
       "    </tr>\n",
       "    <tr>\n",
       "      <th>10</th>\n",
       "      <td>Luigi</td>\n",
       "    </tr>\n",
       "    <tr>\n",
       "      <th>11</th>\n",
       "      <td>Peach</td>\n",
       "    </tr>\n",
       "    <tr>\n",
       "      <th>12</th>\n",
       "      <td>Mario</td>\n",
       "    </tr>\n",
       "    <tr>\n",
       "      <th>13</th>\n",
       "      <td>Luigi</td>\n",
       "    </tr>\n",
       "    <tr>\n",
       "      <th>14</th>\n",
       "      <td>Peach</td>\n",
       "    </tr>\n",
       "    <tr>\n",
       "      <th>15</th>\n",
       "      <td>Mario</td>\n",
       "    </tr>\n",
       "    <tr>\n",
       "      <th>16</th>\n",
       "      <td>Luigi</td>\n",
       "    </tr>\n",
       "    <tr>\n",
       "      <th>17</th>\n",
       "      <td>Peach</td>\n",
       "    </tr>\n",
       "  </tbody>\n",
       "</table>\n",
       "</div>"
      ],
      "text/plain": [
       "   Character\n",
       "0      Mario\n",
       "1      Luigi\n",
       "2      Peach\n",
       "3      Mario\n",
       "4      Luigi\n",
       "5      Peach\n",
       "6      Mario\n",
       "7      Luigi\n",
       "8      Peach\n",
       "9      Mario\n",
       "10     Luigi\n",
       "11     Peach\n",
       "12     Mario\n",
       "13     Luigi\n",
       "14     Peach\n",
       "15     Mario\n",
       "16     Luigi\n",
       "17     Peach"
      ]
     },
     "execution_count": 145,
     "metadata": {},
     "output_type": "execute_result"
    }
   ],
   "source": [
    "reader = client.do_get(info.endpoints[0].ticket)\n",
    "table = reader.read_all()\n",
    "table.to_pandas()"
   ]
  },
  {
   "cell_type": "markdown",
   "metadata": {},
   "source": [
    "## A more serious test with more data"
   ]
  },
  {
   "cell_type": "code",
   "execution_count": 146,
   "metadata": {},
   "outputs": [
    {
     "data": {
      "text/html": [
       "<div>\n",
       "<style scoped>\n",
       "    .dataframe tbody tr th:only-of-type {\n",
       "        vertical-align: middle;\n",
       "    }\n",
       "\n",
       "    .dataframe tbody tr th {\n",
       "        vertical-align: top;\n",
       "    }\n",
       "\n",
       "    .dataframe thead th {\n",
       "        text-align: right;\n",
       "    }\n",
       "</style>\n",
       "<table border=\"1\" class=\"dataframe\">\n",
       "  <thead>\n",
       "    <tr style=\"text-align: right;\">\n",
       "      <th></th>\n",
       "      <th>link</th>\n",
       "      <th>price</th>\n",
       "      <th>house_size</th>\n",
       "      <th>interior</th>\n",
       "      <th>number_of_rooms</th>\n",
       "      <th>construction_period</th>\n",
       "      <th>postal_code</th>\n",
       "      <th>neighbourhood</th>\n",
       "      <th>housing_type</th>\n",
       "      <th>street</th>\n",
       "      <th>for_rent</th>\n",
       "    </tr>\n",
       "  </thead>\n",
       "  <tbody>\n",
       "    <tr>\n",
       "      <th>28</th>\n",
       "      <td>https://www.pararius.com/apartment-for-rent/am...</td>\n",
       "      <td>2250.0</td>\n",
       "      <td>140</td>\n",
       "      <td>Furnished</td>\n",
       "      <td>5</td>\n",
       "      <td>&lt;NA&gt;</td>\n",
       "      <td>1019 AX</td>\n",
       "      <td>Oostelijk Havengebied</td>\n",
       "      <td>Apartment</td>\n",
       "      <td>Panamakade</td>\n",
       "      <td>True</td>\n",
       "    </tr>\n",
       "    <tr>\n",
       "      <th>26</th>\n",
       "      <td>https://www.pararius.com/apartment-for-rent/am...</td>\n",
       "      <td>2150.0</td>\n",
       "      <td>110</td>\n",
       "      <td>Furnished</td>\n",
       "      <td>3</td>\n",
       "      <td>&lt;NA&gt;</td>\n",
       "      <td>1058 DS</td>\n",
       "      <td>Westindische Buurt</td>\n",
       "      <td>Apartment</td>\n",
       "      <td>Postjeskade</td>\n",
       "      <td>True</td>\n",
       "    </tr>\n",
       "    <tr>\n",
       "      <th>7</th>\n",
       "      <td>https://www.pararius.com/apartment-for-rent/am...</td>\n",
       "      <td>1695.0</td>\n",
       "      <td>88</td>\n",
       "      <td>Upholstered</td>\n",
       "      <td>4</td>\n",
       "      <td>&lt;NA&gt;</td>\n",
       "      <td>1078 MS</td>\n",
       "      <td>Scheldebuurt</td>\n",
       "      <td>Apartment</td>\n",
       "      <td>Biesboschstraat</td>\n",
       "      <td>True</td>\n",
       "    </tr>\n",
       "    <tr>\n",
       "      <th>26</th>\n",
       "      <td>https://www.pararius.com/apartment-for-rent/am...</td>\n",
       "      <td>1500.0</td>\n",
       "      <td>45</td>\n",
       "      <td>Upholstered</td>\n",
       "      <td>2</td>\n",
       "      <td>&lt;NA&gt;</td>\n",
       "      <td>1051 BX</td>\n",
       "      <td>Staatsliedenbuurt</td>\n",
       "      <td>Apartment</td>\n",
       "      <td>Van Hogendorpstraat 166 II</td>\n",
       "      <td>True</td>\n",
       "    </tr>\n",
       "    <tr>\n",
       "      <th>29</th>\n",
       "      <td>https://www.pararius.com/apartment-for-rent/am...</td>\n",
       "      <td>1500.0</td>\n",
       "      <td>80</td>\n",
       "      <td>None</td>\n",
       "      <td>2</td>\n",
       "      <td>1930</td>\n",
       "      <td>1052 KC</td>\n",
       "      <td>Frederik Hendrikbuurt</td>\n",
       "      <td>Apartment</td>\n",
       "      <td>Van Oldenbarneveldtstraat</td>\n",
       "      <td>True</td>\n",
       "    </tr>\n",
       "  </tbody>\n",
       "</table>\n",
       "</div>"
      ],
      "text/plain": [
       "                                                 link   price  house_size  \\\n",
       "28  https://www.pararius.com/apartment-for-rent/am...  2250.0         140   \n",
       "26  https://www.pararius.com/apartment-for-rent/am...  2150.0         110   \n",
       "7   https://www.pararius.com/apartment-for-rent/am...  1695.0          88   \n",
       "26  https://www.pararius.com/apartment-for-rent/am...  1500.0          45   \n",
       "29  https://www.pararius.com/apartment-for-rent/am...  1500.0          80   \n",
       "\n",
       "       interior  number_of_rooms  construction_period postal_code  \\\n",
       "28    Furnished                5                 <NA>     1019 AX   \n",
       "26    Furnished                3                 <NA>     1058 DS   \n",
       "7   Upholstered                4                 <NA>     1078 MS   \n",
       "26  Upholstered                2                 <NA>     1051 BX   \n",
       "29         None                2                 1930     1052 KC   \n",
       "\n",
       "            neighbourhood housing_type                      street  for_rent  \n",
       "28  Oostelijk Havengebied    Apartment                  Panamakade      True  \n",
       "26     Westindische Buurt    Apartment                 Postjeskade      True  \n",
       "7            Scheldebuurt    Apartment             Biesboschstraat      True  \n",
       "26      Staatsliedenbuurt    Apartment  Van Hogendorpstraat 166 II      True  \n",
       "29  Frederik Hendrikbuurt    Apartment   Van Oldenbarneveldtstraat      True  "
      ]
     },
     "execution_count": 146,
     "metadata": {},
     "output_type": "execute_result"
    }
   ],
   "source": [
    "import pyarrow.parquet as pq\n",
    "housing = pq.read_table(\"../housing_market/clean_export_pararius_24122021.parquet\")\n",
    "housing.to_pandas().head()"
   ]
  },
  {
   "cell_type": "code",
   "execution_count": 148,
   "metadata": {},
   "outputs": [],
   "source": [
    "upload_descriptor = pa.flight.FlightDescriptor.for_path(\"housing\")\n",
    "writer, _ = client.do_put(upload_descriptor, housing.schema)\n",
    "writer.write_table(housing)\n",
    "writer.close()"
   ]
  },
  {
   "cell_type": "code",
   "execution_count": 149,
   "metadata": {},
   "outputs": [
    {
     "data": {
      "text/html": [
       "<div>\n",
       "<style scoped>\n",
       "    .dataframe tbody tr th:only-of-type {\n",
       "        vertical-align: middle;\n",
       "    }\n",
       "\n",
       "    .dataframe tbody tr th {\n",
       "        vertical-align: top;\n",
       "    }\n",
       "\n",
       "    .dataframe thead th {\n",
       "        text-align: right;\n",
       "    }\n",
       "</style>\n",
       "<table border=\"1\" class=\"dataframe\">\n",
       "  <thead>\n",
       "    <tr style=\"text-align: right;\">\n",
       "      <th></th>\n",
       "      <th>link</th>\n",
       "      <th>price</th>\n",
       "      <th>house_size</th>\n",
       "      <th>interior</th>\n",
       "      <th>number_of_rooms</th>\n",
       "      <th>construction_period</th>\n",
       "      <th>postal_code</th>\n",
       "      <th>neighbourhood</th>\n",
       "      <th>housing_type</th>\n",
       "      <th>street</th>\n",
       "      <th>for_rent</th>\n",
       "    </tr>\n",
       "  </thead>\n",
       "  <tbody>\n",
       "    <tr>\n",
       "      <th>28</th>\n",
       "      <td>https://www.pararius.com/apartment-for-rent/am...</td>\n",
       "      <td>2250.0</td>\n",
       "      <td>140</td>\n",
       "      <td>Furnished</td>\n",
       "      <td>5</td>\n",
       "      <td>&lt;NA&gt;</td>\n",
       "      <td>1019 AX</td>\n",
       "      <td>Oostelijk Havengebied</td>\n",
       "      <td>Apartment</td>\n",
       "      <td>Panamakade</td>\n",
       "      <td>True</td>\n",
       "    </tr>\n",
       "    <tr>\n",
       "      <th>26</th>\n",
       "      <td>https://www.pararius.com/apartment-for-rent/am...</td>\n",
       "      <td>2150.0</td>\n",
       "      <td>110</td>\n",
       "      <td>Furnished</td>\n",
       "      <td>3</td>\n",
       "      <td>&lt;NA&gt;</td>\n",
       "      <td>1058 DS</td>\n",
       "      <td>Westindische Buurt</td>\n",
       "      <td>Apartment</td>\n",
       "      <td>Postjeskade</td>\n",
       "      <td>True</td>\n",
       "    </tr>\n",
       "    <tr>\n",
       "      <th>7</th>\n",
       "      <td>https://www.pararius.com/apartment-for-rent/am...</td>\n",
       "      <td>1695.0</td>\n",
       "      <td>88</td>\n",
       "      <td>Upholstered</td>\n",
       "      <td>4</td>\n",
       "      <td>&lt;NA&gt;</td>\n",
       "      <td>1078 MS</td>\n",
       "      <td>Scheldebuurt</td>\n",
       "      <td>Apartment</td>\n",
       "      <td>Biesboschstraat</td>\n",
       "      <td>True</td>\n",
       "    </tr>\n",
       "    <tr>\n",
       "      <th>26</th>\n",
       "      <td>https://www.pararius.com/apartment-for-rent/am...</td>\n",
       "      <td>1500.0</td>\n",
       "      <td>45</td>\n",
       "      <td>Upholstered</td>\n",
       "      <td>2</td>\n",
       "      <td>&lt;NA&gt;</td>\n",
       "      <td>1051 BX</td>\n",
       "      <td>Staatsliedenbuurt</td>\n",
       "      <td>Apartment</td>\n",
       "      <td>Van Hogendorpstraat 166 II</td>\n",
       "      <td>True</td>\n",
       "    </tr>\n",
       "    <tr>\n",
       "      <th>29</th>\n",
       "      <td>https://www.pararius.com/apartment-for-rent/am...</td>\n",
       "      <td>1500.0</td>\n",
       "      <td>80</td>\n",
       "      <td>None</td>\n",
       "      <td>2</td>\n",
       "      <td>1930</td>\n",
       "      <td>1052 KC</td>\n",
       "      <td>Frederik Hendrikbuurt</td>\n",
       "      <td>Apartment</td>\n",
       "      <td>Van Oldenbarneveldtstraat</td>\n",
       "      <td>True</td>\n",
       "    </tr>\n",
       "  </tbody>\n",
       "</table>\n",
       "</div>"
      ],
      "text/plain": [
       "                                                 link   price  house_size  \\\n",
       "28  https://www.pararius.com/apartment-for-rent/am...  2250.0         140   \n",
       "26  https://www.pararius.com/apartment-for-rent/am...  2150.0         110   \n",
       "7   https://www.pararius.com/apartment-for-rent/am...  1695.0          88   \n",
       "26  https://www.pararius.com/apartment-for-rent/am...  1500.0          45   \n",
       "29  https://www.pararius.com/apartment-for-rent/am...  1500.0          80   \n",
       "\n",
       "       interior  number_of_rooms  construction_period postal_code  \\\n",
       "28    Furnished                5                 <NA>     1019 AX   \n",
       "26    Furnished                3                 <NA>     1058 DS   \n",
       "7   Upholstered                4                 <NA>     1078 MS   \n",
       "26  Upholstered                2                 <NA>     1051 BX   \n",
       "29         None                2                 1930     1052 KC   \n",
       "\n",
       "            neighbourhood housing_type                      street  for_rent  \n",
       "28  Oostelijk Havengebied    Apartment                  Panamakade      True  \n",
       "26     Westindische Buurt    Apartment                 Postjeskade      True  \n",
       "7            Scheldebuurt    Apartment             Biesboschstraat      True  \n",
       "26      Staatsliedenbuurt    Apartment  Van Hogendorpstraat 166 II      True  \n",
       "29  Frederik Hendrikbuurt    Apartment   Van Oldenbarneveldtstraat      True  "
      ]
     },
     "execution_count": 149,
     "metadata": {},
     "output_type": "execute_result"
    }
   ],
   "source": [
    "endpoints = client.get_flight_info(upload_descriptor).endpoints\n",
    "reader = client.do_get(endpoints[0].ticket)\n",
    "table = reader.read_all()\n",
    "table.to_pandas().head()"
   ]
  },
  {
   "cell_type": "code",
   "execution_count": 157,
   "metadata": {},
   "outputs": [
    {
     "data": {
      "text/plain": [
       "<Ticket b'./storage/housing'>"
      ]
     },
     "execution_count": 157,
     "metadata": {},
     "output_type": "execute_result"
    }
   ],
   "source": [
    "endpoints[0].ticket"
   ]
  },
  {
   "cell_type": "code",
   "execution_count": 150,
   "metadata": {},
   "outputs": [
    {
     "name": "stdout",
     "output_type": "stream",
     "text": [
      "Path: ./storage/housing Rows: 1208 Size: 6644\n",
      "=== Schema ===\n",
      "link: string\n",
      "price: float\n",
      "house_size: int32\n",
      "interior: string\n",
      "number_of_rooms: int32\n",
      "construction_period: int64\n",
      "postal_code: string\n",
      "neighbourhood: string\n",
      "housing_type: string\n",
      "street: string\n",
      "for_rent: bool\n",
      "__index_level_0__: int64\n",
      "-- schema metadata --\n",
      "pandas: '{\"index_columns\": [\"__index_level_0__\"], \"column_indexes\": [{\"na' + 1637\n",
      "==============\n",
      "\n",
      "Path: ./storage/characters Rows: 18 Size: 2178\n",
      "=== Schema ===\n",
      "Character: string\n",
      "==============\n",
      "\n"
     ]
    }
   ],
   "source": [
    "for flight in client.list_flights():\n",
    "    descriptor = flight.descriptor\n",
    "    print(\"Path:\", descriptor.path[0].decode('utf-8'), \"Rows:\", flight.total_records, \"Size:\", flight.total_bytes)\n",
    "    print(\"=== Schema ===\")\n",
    "    print(flight.schema)\n",
    "    print(\"==============\")\n",
    "    print(\"\")"
   ]
  },
  {
   "cell_type": "markdown",
   "metadata": {},
   "source": [
    "## DeltaServer test"
   ]
  },
  {
   "cell_type": "code",
   "execution_count": 154,
   "metadata": {},
   "outputs": [],
   "source": [
    "client = pa.flight.connect(\"grpc://0.0.0.0:8815\")"
   ]
  },
  {
   "cell_type": "code",
   "execution_count": 155,
   "metadata": {},
   "outputs": [
    {
     "name": "stdout",
     "output_type": "stream",
     "text": [
      "Path: ./delta_storage/housing Rows: 1208 Size: 6645\n",
      "=== Schema ===\n",
      "link: string\n",
      "price: float\n",
      "house_size: int32\n",
      "interior: string\n",
      "number_of_rooms: int32\n",
      "construction_period: int64\n",
      "postal_code: string\n",
      "neighbourhood: string\n",
      "housing_type: string\n",
      "street: string\n",
      "for_rent: bool\n",
      "__index_level_0__: int64\n",
      "==============\n",
      "\n"
     ]
    }
   ],
   "source": [
    "# List all Delta Tables\n",
    "for flight in client.list_flights():\n",
    "    descriptor = flight.descriptor\n",
    "    print(\"Path:\", descriptor.path[0].decode('utf-8'), \"Rows:\", flight.total_records, \"Size:\", flight.total_bytes)\n",
    "    print(\"=== Schema ===\")\n",
    "    print(flight.schema)\n",
    "    print(\"==============\")\n",
    "    print(\"\")"
   ]
  },
  {
   "cell_type": "code",
   "execution_count": null,
   "metadata": {},
   "outputs": [],
   "source": [
    "flight_descriptor = pa.flight.FlightDescriptor.for_path(\"housing/\")"
   ]
  }
 ],
 "metadata": {
  "kernelspec": {
   "display_name": "Python 3.9.15 ('arrow-service')",
   "language": "python",
   "name": "python3"
  },
  "language_info": {
   "codemirror_mode": {
    "name": "ipython",
    "version": 3
   },
   "file_extension": ".py",
   "mimetype": "text/x-python",
   "name": "python",
   "nbconvert_exporter": "python",
   "pygments_lexer": "ipython3",
   "version": "3.9.15"
  },
  "orig_nbformat": 4,
  "vscode": {
   "interpreter": {
    "hash": "05f373a73dcd08d7b7dbd4177477900571fbb31cafdcf91e9ce8f22a4ac8c017"
   }
  }
 },
 "nbformat": 4,
 "nbformat_minor": 2
}
